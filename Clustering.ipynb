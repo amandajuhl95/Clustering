{
 "cells": [
  {
   "cell_type": "markdown",
   "metadata": {},
   "source": [
    "# Assignment - Clustering"
   ]
  },
  {
   "cell_type": "markdown",
   "metadata": {},
   "source": [
    "#### 1. Reproduce E8-1: K-Means algorithm with your own data file (feel free to use freedom.csv or another data source file from the DSC repository)"
   ]
  },
  {
   "cell_type": "code",
   "execution_count": 127,
   "metadata": {},
   "outputs": [],
   "source": [
    "import numpy as np\n",
    "import pandas as pd\n",
    "import matplotlib.pyplot as plt\n",
    "from sklearn.cluster import KMeans\n",
    "from sklearn import metrics\n",
    "from scipy.spatial.distance import cdist"
   ]
  },
  {
   "cell_type": "code",
   "execution_count": 128,
   "metadata": {},
   "outputs": [
    {
     "data": {
      "text/html": [
       "<div>\n",
       "<style scoped>\n",
       "    .dataframe tbody tr th:only-of-type {\n",
       "        vertical-align: middle;\n",
       "    }\n",
       "\n",
       "    .dataframe tbody tr th {\n",
       "        vertical-align: top;\n",
       "    }\n",
       "\n",
       "    .dataframe thead th {\n",
       "        text-align: right;\n",
       "    }\n",
       "</style>\n",
       "<table border=\"1\" class=\"dataframe\">\n",
       "  <thead>\n",
       "    <tr style=\"text-align: right;\">\n",
       "      <th></th>\n",
       "      <th>country</th>\n",
       "      <th>1972</th>\n",
       "      <th>1973</th>\n",
       "      <th>1974</th>\n",
       "      <th>1975</th>\n",
       "      <th>1976</th>\n",
       "      <th>1977</th>\n",
       "      <th>1978</th>\n",
       "      <th>1979</th>\n",
       "      <th>1980</th>\n",
       "      <th>...</th>\n",
       "      <th>2009</th>\n",
       "      <th>2010</th>\n",
       "      <th>2011</th>\n",
       "      <th>2012</th>\n",
       "      <th>2013</th>\n",
       "      <th>2014</th>\n",
       "      <th>2015</th>\n",
       "      <th>2016</th>\n",
       "      <th>2017</th>\n",
       "      <th>2018</th>\n",
       "    </tr>\n",
       "  </thead>\n",
       "  <tbody>\n",
       "    <tr>\n",
       "      <td>0</td>\n",
       "      <td>Afghanistan</td>\n",
       "      <td>4.5</td>\n",
       "      <td>6.5</td>\n",
       "      <td>6.5</td>\n",
       "      <td>6.5</td>\n",
       "      <td>6.5</td>\n",
       "      <td>6.0</td>\n",
       "      <td>7.0</td>\n",
       "      <td>7.0</td>\n",
       "      <td>7.0</td>\n",
       "      <td>...</td>\n",
       "      <td>6.0</td>\n",
       "      <td>6.0</td>\n",
       "      <td>6.0</td>\n",
       "      <td>6.0</td>\n",
       "      <td>6.0</td>\n",
       "      <td>6.0</td>\n",
       "      <td>6.0</td>\n",
       "      <td>6.0</td>\n",
       "      <td>5.5</td>\n",
       "      <td>5.5</td>\n",
       "    </tr>\n",
       "    <tr>\n",
       "      <td>1</td>\n",
       "      <td>Albania</td>\n",
       "      <td>7.0</td>\n",
       "      <td>7.0</td>\n",
       "      <td>7.0</td>\n",
       "      <td>7.0</td>\n",
       "      <td>7.0</td>\n",
       "      <td>7.0</td>\n",
       "      <td>7.0</td>\n",
       "      <td>7.0</td>\n",
       "      <td>7.0</td>\n",
       "      <td>...</td>\n",
       "      <td>3.0</td>\n",
       "      <td>3.0</td>\n",
       "      <td>3.0</td>\n",
       "      <td>3.0</td>\n",
       "      <td>3.0</td>\n",
       "      <td>3.0</td>\n",
       "      <td>3.0</td>\n",
       "      <td>3.0</td>\n",
       "      <td>3.0</td>\n",
       "      <td>3.0</td>\n",
       "    </tr>\n",
       "    <tr>\n",
       "      <td>2</td>\n",
       "      <td>Algeria</td>\n",
       "      <td>6.0</td>\n",
       "      <td>6.0</td>\n",
       "      <td>6.0</td>\n",
       "      <td>6.5</td>\n",
       "      <td>6.0</td>\n",
       "      <td>6.0</td>\n",
       "      <td>6.0</td>\n",
       "      <td>6.0</td>\n",
       "      <td>6.0</td>\n",
       "      <td>...</td>\n",
       "      <td>5.5</td>\n",
       "      <td>5.5</td>\n",
       "      <td>5.5</td>\n",
       "      <td>5.5</td>\n",
       "      <td>5.5</td>\n",
       "      <td>5.5</td>\n",
       "      <td>5.5</td>\n",
       "      <td>5.5</td>\n",
       "      <td>5.5</td>\n",
       "      <td>5.5</td>\n",
       "    </tr>\n",
       "    <tr>\n",
       "      <td>3</td>\n",
       "      <td>Andorra</td>\n",
       "      <td>3.5</td>\n",
       "      <td>4.0</td>\n",
       "      <td>4.0</td>\n",
       "      <td>4.0</td>\n",
       "      <td>4.0</td>\n",
       "      <td>NaN</td>\n",
       "      <td>NaN</td>\n",
       "      <td>NaN</td>\n",
       "      <td>NaN</td>\n",
       "      <td>...</td>\n",
       "      <td>1.0</td>\n",
       "      <td>1.0</td>\n",
       "      <td>1.0</td>\n",
       "      <td>1.0</td>\n",
       "      <td>1.0</td>\n",
       "      <td>1.0</td>\n",
       "      <td>1.0</td>\n",
       "      <td>1.0</td>\n",
       "      <td>1.0</td>\n",
       "      <td>1.0</td>\n",
       "    </tr>\n",
       "    <tr>\n",
       "      <td>4</td>\n",
       "      <td>Angola</td>\n",
       "      <td>NaN</td>\n",
       "      <td>NaN</td>\n",
       "      <td>NaN</td>\n",
       "      <td>6.0</td>\n",
       "      <td>6.0</td>\n",
       "      <td>7.0</td>\n",
       "      <td>7.0</td>\n",
       "      <td>7.0</td>\n",
       "      <td>7.0</td>\n",
       "      <td>...</td>\n",
       "      <td>5.5</td>\n",
       "      <td>5.5</td>\n",
       "      <td>5.5</td>\n",
       "      <td>5.5</td>\n",
       "      <td>5.5</td>\n",
       "      <td>5.5</td>\n",
       "      <td>6.0</td>\n",
       "      <td>6.0</td>\n",
       "      <td>6.0</td>\n",
       "      <td>5.5</td>\n",
       "    </tr>\n",
       "  </tbody>\n",
       "</table>\n",
       "<p>5 rows × 48 columns</p>\n",
       "</div>"
      ],
      "text/plain": [
       "       country  1972  1973  1974  1975  1976  1977  1978  1979  1980  ...  \\\n",
       "0  Afghanistan   4.5   6.5   6.5   6.5   6.5   6.0   7.0   7.0   7.0  ...   \n",
       "1      Albania   7.0   7.0   7.0   7.0   7.0   7.0   7.0   7.0   7.0  ...   \n",
       "2      Algeria   6.0   6.0   6.0   6.5   6.0   6.0   6.0   6.0   6.0  ...   \n",
       "3      Andorra   3.5   4.0   4.0   4.0   4.0   NaN   NaN   NaN   NaN  ...   \n",
       "4       Angola   NaN   NaN   NaN   6.0   6.0   7.0   7.0   7.0   7.0  ...   \n",
       "\n",
       "   2009  2010  2011  2012  2013  2014  2015  2016  2017  2018  \n",
       "0   6.0   6.0   6.0   6.0   6.0   6.0   6.0   6.0   5.5   5.5  \n",
       "1   3.0   3.0   3.0   3.0   3.0   3.0   3.0   3.0   3.0   3.0  \n",
       "2   5.5   5.5   5.5   5.5   5.5   5.5   5.5   5.5   5.5   5.5  \n",
       "3   1.0   1.0   1.0   1.0   1.0   1.0   1.0   1.0   1.0   1.0  \n",
       "4   5.5   5.5   5.5   5.5   5.5   5.5   6.0   6.0   6.0   5.5  \n",
       "\n",
       "[5 rows x 48 columns]"
      ]
     },
     "execution_count": 128,
     "metadata": {},
     "output_type": "execute_result"
    }
   ],
   "source": [
    "# Load input data\n",
    "df = pd.read_csv(\"fredom.csv\")\n",
    "df.head()"
   ]
  },
  {
   "cell_type": "code",
   "execution_count": 129,
   "metadata": {},
   "outputs": [
    {
     "data": {
      "text/plain": [
       "(193, 48)"
      ]
     },
     "execution_count": 129,
     "metadata": {},
     "output_type": "execute_result"
    }
   ],
   "source": [
    "df.shape"
   ]
  },
  {
   "cell_type": "code",
   "execution_count": 130,
   "metadata": {},
   "outputs": [
    {
     "name": "stdout",
     "output_type": "stream",
     "text": [
      "<class 'pandas.core.frame.DataFrame'>\n",
      "RangeIndex: 193 entries, 0 to 192\n",
      "Data columns (total 48 columns):\n",
      "country    193 non-null object\n",
      "1972       142 non-null float64\n",
      "1973       143 non-null float64\n",
      "1974       145 non-null float64\n",
      "1975       151 non-null float64\n",
      "1976       152 non-null float64\n",
      "1977       148 non-null float64\n",
      "1978       151 non-null float64\n",
      "1979       154 non-null float64\n",
      "1980       155 non-null float64\n",
      "1981       157 non-null float64\n",
      "1982       0 non-null float64\n",
      "1983       158 non-null float64\n",
      "1984       159 non-null float64\n",
      "1985       159 non-null float64\n",
      "1986       159 non-null float64\n",
      "1987       159 non-null float64\n",
      "1988       159 non-null float64\n",
      "1989       160 non-null float64\n",
      "1990       160 non-null float64\n",
      "1991       179 non-null float64\n",
      "1992       183 non-null float64\n",
      "1993       188 non-null float64\n",
      "1994       189 non-null float64\n",
      "1995       189 non-null float64\n",
      "1996       189 non-null float64\n",
      "1997       189 non-null float64\n",
      "1998       189 non-null float64\n",
      "1999       190 non-null float64\n",
      "2000       190 non-null float64\n",
      "2001       190 non-null float64\n",
      "2002       190 non-null float64\n",
      "2003       190 non-null float64\n",
      "2004       190 non-null float64\n",
      "2005       190 non-null float64\n",
      "2006       192 non-null float64\n",
      "2007       192 non-null float64\n",
      "2008       192 non-null float64\n",
      "2009       192 non-null float64\n",
      "2010       192 non-null float64\n",
      "2011       193 non-null float64\n",
      "2012       193 non-null float64\n",
      "2013       193 non-null float64\n",
      "2014       193 non-null float64\n",
      "2015       193 non-null float64\n",
      "2016       193 non-null float64\n",
      "2017       193 non-null float64\n",
      "2018       193 non-null float64\n",
      "dtypes: float64(47), object(1)\n",
      "memory usage: 72.5+ KB\n"
     ]
    }
   ],
   "source": [
    "df.info()"
   ]
  },
  {
   "cell_type": "code",
   "execution_count": 131,
   "metadata": {},
   "outputs": [
    {
     "data": {
      "text/html": [
       "<div>\n",
       "<style scoped>\n",
       "    .dataframe tbody tr th:only-of-type {\n",
       "        vertical-align: middle;\n",
       "    }\n",
       "\n",
       "    .dataframe tbody tr th {\n",
       "        vertical-align: top;\n",
       "    }\n",
       "\n",
       "    .dataframe thead th {\n",
       "        text-align: right;\n",
       "    }\n",
       "</style>\n",
       "<table border=\"1\" class=\"dataframe\">\n",
       "  <thead>\n",
       "    <tr style=\"text-align: right;\">\n",
       "      <th></th>\n",
       "      <th>1972</th>\n",
       "      <th>1973</th>\n",
       "      <th>1974</th>\n",
       "      <th>1975</th>\n",
       "      <th>1976</th>\n",
       "      <th>1977</th>\n",
       "      <th>1978</th>\n",
       "      <th>1979</th>\n",
       "      <th>1980</th>\n",
       "      <th>1981</th>\n",
       "      <th>...</th>\n",
       "      <th>2009</th>\n",
       "      <th>2010</th>\n",
       "      <th>2011</th>\n",
       "      <th>2012</th>\n",
       "      <th>2013</th>\n",
       "      <th>2014</th>\n",
       "      <th>2015</th>\n",
       "      <th>2016</th>\n",
       "      <th>2017</th>\n",
       "      <th>2018</th>\n",
       "    </tr>\n",
       "  </thead>\n",
       "  <tbody>\n",
       "    <tr>\n",
       "      <td>count</td>\n",
       "      <td>142.000000</td>\n",
       "      <td>143.000000</td>\n",
       "      <td>145.000000</td>\n",
       "      <td>151.000000</td>\n",
       "      <td>152.000000</td>\n",
       "      <td>148.000000</td>\n",
       "      <td>151.000000</td>\n",
       "      <td>154.000000</td>\n",
       "      <td>155.000000</td>\n",
       "      <td>157.000000</td>\n",
       "      <td>...</td>\n",
       "      <td>192.000000</td>\n",
       "      <td>192.000000</td>\n",
       "      <td>193.000000</td>\n",
       "      <td>193.000000</td>\n",
       "      <td>193.000000</td>\n",
       "      <td>193.000000</td>\n",
       "      <td>193.000000</td>\n",
       "      <td>193.000000</td>\n",
       "      <td>193.000000</td>\n",
       "      <td>193.000000</td>\n",
       "    </tr>\n",
       "    <tr>\n",
       "      <td>mean</td>\n",
       "      <td>4.299296</td>\n",
       "      <td>4.318182</td>\n",
       "      <td>4.320690</td>\n",
       "      <td>4.396026</td>\n",
       "      <td>4.413158</td>\n",
       "      <td>4.380405</td>\n",
       "      <td>4.317881</td>\n",
       "      <td>4.227273</td>\n",
       "      <td>4.261290</td>\n",
       "      <td>4.251592</td>\n",
       "      <td>...</td>\n",
       "      <td>3.309896</td>\n",
       "      <td>3.307292</td>\n",
       "      <td>3.310881</td>\n",
       "      <td>3.316062</td>\n",
       "      <td>3.297927</td>\n",
       "      <td>3.331606</td>\n",
       "      <td>3.349741</td>\n",
       "      <td>3.383420</td>\n",
       "      <td>3.391192</td>\n",
       "      <td>3.422280</td>\n",
       "    </tr>\n",
       "    <tr>\n",
       "      <td>std</td>\n",
       "      <td>2.008016</td>\n",
       "      <td>2.014512</td>\n",
       "      <td>1.985779</td>\n",
       "      <td>1.973757</td>\n",
       "      <td>2.005941</td>\n",
       "      <td>1.999784</td>\n",
       "      <td>2.005396</td>\n",
       "      <td>2.012291</td>\n",
       "      <td>2.009988</td>\n",
       "      <td>2.041731</td>\n",
       "      <td>...</td>\n",
       "      <td>1.971407</td>\n",
       "      <td>1.977451</td>\n",
       "      <td>1.972925</td>\n",
       "      <td>1.979347</td>\n",
       "      <td>1.978556</td>\n",
       "      <td>2.013337</td>\n",
       "      <td>2.020910</td>\n",
       "      <td>2.033735</td>\n",
       "      <td>2.035767</td>\n",
       "      <td>2.031438</td>\n",
       "    </tr>\n",
       "    <tr>\n",
       "      <td>min</td>\n",
       "      <td>1.000000</td>\n",
       "      <td>1.000000</td>\n",
       "      <td>1.000000</td>\n",
       "      <td>1.000000</td>\n",
       "      <td>1.000000</td>\n",
       "      <td>1.000000</td>\n",
       "      <td>1.000000</td>\n",
       "      <td>1.000000</td>\n",
       "      <td>1.000000</td>\n",
       "      <td>1.000000</td>\n",
       "      <td>...</td>\n",
       "      <td>1.000000</td>\n",
       "      <td>1.000000</td>\n",
       "      <td>1.000000</td>\n",
       "      <td>1.000000</td>\n",
       "      <td>1.000000</td>\n",
       "      <td>1.000000</td>\n",
       "      <td>1.000000</td>\n",
       "      <td>1.000000</td>\n",
       "      <td>1.000000</td>\n",
       "      <td>1.000000</td>\n",
       "    </tr>\n",
       "    <tr>\n",
       "      <td>25%</td>\n",
       "      <td>2.500000</td>\n",
       "      <td>2.500000</td>\n",
       "      <td>2.500000</td>\n",
       "      <td>2.500000</td>\n",
       "      <td>2.500000</td>\n",
       "      <td>2.500000</td>\n",
       "      <td>2.250000</td>\n",
       "      <td>2.000000</td>\n",
       "      <td>2.500000</td>\n",
       "      <td>2.000000</td>\n",
       "      <td>...</td>\n",
       "      <td>1.500000</td>\n",
       "      <td>1.375000</td>\n",
       "      <td>1.500000</td>\n",
       "      <td>1.500000</td>\n",
       "      <td>1.000000</td>\n",
       "      <td>1.500000</td>\n",
       "      <td>1.500000</td>\n",
       "      <td>1.500000</td>\n",
       "      <td>1.500000</td>\n",
       "      <td>1.500000</td>\n",
       "    </tr>\n",
       "    <tr>\n",
       "      <td>50%</td>\n",
       "      <td>5.000000</td>\n",
       "      <td>5.000000</td>\n",
       "      <td>5.000000</td>\n",
       "      <td>5.000000</td>\n",
       "      <td>5.000000</td>\n",
       "      <td>5.000000</td>\n",
       "      <td>5.000000</td>\n",
       "      <td>4.750000</td>\n",
       "      <td>5.000000</td>\n",
       "      <td>5.000000</td>\n",
       "      <td>...</td>\n",
       "      <td>3.000000</td>\n",
       "      <td>3.000000</td>\n",
       "      <td>3.000000</td>\n",
       "      <td>3.000000</td>\n",
       "      <td>3.000000</td>\n",
       "      <td>3.000000</td>\n",
       "      <td>3.000000</td>\n",
       "      <td>3.000000</td>\n",
       "      <td>3.000000</td>\n",
       "      <td>3.000000</td>\n",
       "    </tr>\n",
       "    <tr>\n",
       "      <td>75%</td>\n",
       "      <td>6.000000</td>\n",
       "      <td>6.000000</td>\n",
       "      <td>6.000000</td>\n",
       "      <td>6.000000</td>\n",
       "      <td>6.000000</td>\n",
       "      <td>6.000000</td>\n",
       "      <td>6.000000</td>\n",
       "      <td>6.000000</td>\n",
       "      <td>6.000000</td>\n",
       "      <td>6.000000</td>\n",
       "      <td>...</td>\n",
       "      <td>5.000000</td>\n",
       "      <td>5.000000</td>\n",
       "      <td>5.000000</td>\n",
       "      <td>5.000000</td>\n",
       "      <td>5.000000</td>\n",
       "      <td>5.500000</td>\n",
       "      <td>5.500000</td>\n",
       "      <td>5.500000</td>\n",
       "      <td>5.500000</td>\n",
       "      <td>5.500000</td>\n",
       "    </tr>\n",
       "    <tr>\n",
       "      <td>max</td>\n",
       "      <td>7.000000</td>\n",
       "      <td>7.000000</td>\n",
       "      <td>7.000000</td>\n",
       "      <td>7.000000</td>\n",
       "      <td>7.000000</td>\n",
       "      <td>7.000000</td>\n",
       "      <td>7.000000</td>\n",
       "      <td>7.000000</td>\n",
       "      <td>7.000000</td>\n",
       "      <td>7.000000</td>\n",
       "      <td>...</td>\n",
       "      <td>7.000000</td>\n",
       "      <td>7.000000</td>\n",
       "      <td>7.000000</td>\n",
       "      <td>7.000000</td>\n",
       "      <td>7.000000</td>\n",
       "      <td>7.000000</td>\n",
       "      <td>7.000000</td>\n",
       "      <td>7.000000</td>\n",
       "      <td>7.000000</td>\n",
       "      <td>7.000000</td>\n",
       "    </tr>\n",
       "  </tbody>\n",
       "</table>\n",
       "<p>8 rows × 47 columns</p>\n",
       "</div>"
      ],
      "text/plain": [
       "             1972        1973        1974        1975        1976        1977  \\\n",
       "count  142.000000  143.000000  145.000000  151.000000  152.000000  148.000000   \n",
       "mean     4.299296    4.318182    4.320690    4.396026    4.413158    4.380405   \n",
       "std      2.008016    2.014512    1.985779    1.973757    2.005941    1.999784   \n",
       "min      1.000000    1.000000    1.000000    1.000000    1.000000    1.000000   \n",
       "25%      2.500000    2.500000    2.500000    2.500000    2.500000    2.500000   \n",
       "50%      5.000000    5.000000    5.000000    5.000000    5.000000    5.000000   \n",
       "75%      6.000000    6.000000    6.000000    6.000000    6.000000    6.000000   \n",
       "max      7.000000    7.000000    7.000000    7.000000    7.000000    7.000000   \n",
       "\n",
       "             1978        1979        1980        1981  ...        2009  \\\n",
       "count  151.000000  154.000000  155.000000  157.000000  ...  192.000000   \n",
       "mean     4.317881    4.227273    4.261290    4.251592  ...    3.309896   \n",
       "std      2.005396    2.012291    2.009988    2.041731  ...    1.971407   \n",
       "min      1.000000    1.000000    1.000000    1.000000  ...    1.000000   \n",
       "25%      2.250000    2.000000    2.500000    2.000000  ...    1.500000   \n",
       "50%      5.000000    4.750000    5.000000    5.000000  ...    3.000000   \n",
       "75%      6.000000    6.000000    6.000000    6.000000  ...    5.000000   \n",
       "max      7.000000    7.000000    7.000000    7.000000  ...    7.000000   \n",
       "\n",
       "             2010        2011        2012        2013        2014        2015  \\\n",
       "count  192.000000  193.000000  193.000000  193.000000  193.000000  193.000000   \n",
       "mean     3.307292    3.310881    3.316062    3.297927    3.331606    3.349741   \n",
       "std      1.977451    1.972925    1.979347    1.978556    2.013337    2.020910   \n",
       "min      1.000000    1.000000    1.000000    1.000000    1.000000    1.000000   \n",
       "25%      1.375000    1.500000    1.500000    1.000000    1.500000    1.500000   \n",
       "50%      3.000000    3.000000    3.000000    3.000000    3.000000    3.000000   \n",
       "75%      5.000000    5.000000    5.000000    5.000000    5.500000    5.500000   \n",
       "max      7.000000    7.000000    7.000000    7.000000    7.000000    7.000000   \n",
       "\n",
       "             2016        2017        2018  \n",
       "count  193.000000  193.000000  193.000000  \n",
       "mean     3.383420    3.391192    3.422280  \n",
       "std      2.033735    2.035767    2.031438  \n",
       "min      1.000000    1.000000    1.000000  \n",
       "25%      1.500000    1.500000    1.500000  \n",
       "50%      3.000000    3.000000    3.000000  \n",
       "75%      5.500000    5.500000    5.500000  \n",
       "max      7.000000    7.000000    7.000000  \n",
       "\n",
       "[8 rows x 47 columns]"
      ]
     },
     "execution_count": 131,
     "metadata": {},
     "output_type": "execute_result"
    }
   ],
   "source": [
    "df.describe()"
   ]
  },
  {
   "cell_type": "code",
   "execution_count": 132,
   "metadata": {},
   "outputs": [
    {
     "data": {
      "text/plain": [
       "country      0\n",
       "1972        51\n",
       "1973        50\n",
       "1974        48\n",
       "1975        42\n",
       "1976        41\n",
       "1977        45\n",
       "1978        42\n",
       "1979        39\n",
       "1980        38\n",
       "1981        36\n",
       "1982       193\n",
       "1983        35\n",
       "1984        34\n",
       "1985        34\n",
       "1986        34\n",
       "1987        34\n",
       "1988        34\n",
       "1989        33\n",
       "1990        33\n",
       "1991        14\n",
       "1992        10\n",
       "1993         5\n",
       "1994         4\n",
       "1995         4\n",
       "1996         4\n",
       "1997         4\n",
       "1998         4\n",
       "1999         3\n",
       "2000         3\n",
       "2001         3\n",
       "2002         3\n",
       "2003         3\n",
       "2004         3\n",
       "2005         3\n",
       "2006         1\n",
       "2007         1\n",
       "2008         1\n",
       "2009         1\n",
       "2010         1\n",
       "2011         0\n",
       "2012         0\n",
       "2013         0\n",
       "2014         0\n",
       "2015         0\n",
       "2016         0\n",
       "2017         0\n",
       "2018         0\n",
       "dtype: int64"
      ]
     },
     "execution_count": 132,
     "metadata": {},
     "output_type": "execute_result"
    }
   ],
   "source": [
    "# to check null values in data\n",
    "df.isnull().sum()"
   ]
  },
  {
   "cell_type": "code",
   "execution_count": 140,
   "metadata": {},
   "outputs": [],
   "source": [
    "df = df.dropna(axis=1)"
   ]
  },
  {
   "cell_type": "code",
   "execution_count": 147,
   "metadata": {},
   "outputs": [
    {
     "data": {
      "text/plain": [
       "country    0\n",
       "2011       0\n",
       "2012       0\n",
       "2013       0\n",
       "2014       0\n",
       "2015       0\n",
       "2016       0\n",
       "2017       0\n",
       "2018       0\n",
       "dtype: int64"
      ]
     },
     "execution_count": 147,
     "metadata": {},
     "output_type": "execute_result"
    }
   ],
   "source": [
    "df.isnull().sum()"
   ]
  },
  {
   "cell_type": "code",
   "execution_count": 148,
   "metadata": {},
   "outputs": [
    {
     "data": {
      "text/plain": [
       "array([[6.0, 6.0, 6.0, ..., 6.0, 5.5, 5.5],\n",
       "       [3.0, 3.0, 3.0, ..., 3.0, 3.0, 3.0],\n",
       "       [5.5, 5.5, 5.5, ..., 5.5, 5.5, 5.5],\n",
       "       ...,\n",
       "       [6.0, 6.0, 6.0, ..., 6.5, 6.5, 6.5],\n",
       "       [3.5, 3.5, 3.5, ..., 4.0, 4.0, 4.0],\n",
       "       [6.0, 6.0, 5.5, ..., 5.0, 5.5, 5.0]], dtype=object)"
      ]
     },
     "execution_count": 148,
     "metadata": {},
     "output_type": "execute_result"
    }
   ],
   "source": [
    "X = df.values[:,1:]\n",
    "X"
   ]
  },
  {
   "cell_type": "code",
   "execution_count": 149,
   "metadata": {},
   "outputs": [
    {
     "data": {
      "image/png": "[encoded data removed]",
      "text/plain": [
       "<Figure size 432x288 with 1 Axes>"
      ]
     },
     "metadata": {
      "needs_background": "light"
     },
     "output_type": "display_data"
    }
   ],
   "source": [
    "# Plot the input data\n",
    "plt.figure()\n",
    "plt.title('Input data')\n",
    "\n",
    "# first column\n",
    "x_min = X[:, 0].min()\n",
    "x_max = X[:, 0].max()\n",
    "\n",
    "# second column\n",
    "y_min = X[:, 1].min()\n",
    "y_max = X[:, 1].max()\n",
    "\n",
    "# set plot limits\n",
    "plt.xlim(x_min - 1, x_max + 1)\n",
    "plt.ylim(y_min - 1, y_max + 1)\n",
    "\n",
    "# plot the points\n",
    "plt.scatter(X[:,0], X[:,1], marker='o', facecolors='none', edgecolors='black', s=30)\n",
    "\n",
    "plt.show()"
   ]
  },
  {
   "cell_type": "code",
   "execution_count": 150,
   "metadata": {},
   "outputs": [
    {
     "name": "stdout",
     "output_type": "stream",
     "text": [
      "Distortion:  [2.4251924766945967, 1.582881413856715, 1.252584763652939, 1.0682866738647696, 0.9002391490201255, 0.8135995822711614, 0.7256181714956133, 0.7222563922820431, 0.6780479975703513, 0.629801456318216, 0.6005241960197696, 0.5840385758509252, 0.5728669997422432, 0.5588147336379405, 0.5340044492925099, 0.5134292119570746, 0.514058779190042, 0.5103040452563622]\n"
     ]
    }
   ],
   "source": [
    "\n",
    "# Determine k by minimizing the distortion - \n",
    "# the sum of the squared distances between each observation vector and its centroid\n",
    "distortions = []\n",
    "K = range(2,20)\n",
    "for k in K:\n",
    "    model = KMeans(n_clusters=k).fit(X)\n",
    "    model.fit(X)\n",
    "    distortions.append(sum(np.min(cdist(X, model.cluster_centers_, 'euclidean'), axis=1)) / X.shape[0]) \n",
    "print(\"Distortion: \", distortions)"
   ]
  },
  {
   "cell_type": "code",
   "execution_count": 151,
   "metadata": {},
   "outputs": [
    {
     "data": {
      "image/png": "[encoded data removed]",
      "text/plain": [
       "<Figure size 432x288 with 1 Axes>"
      ]
     },
     "metadata": {
      "needs_background": "light"
     },
     "output_type": "display_data"
    }
   ],
   "source": [
    "# Plot the elbow\n",
    "plt.title('Elbow Method for Optimal K')\n",
    "plt.plot(K, distortions, 'bx-')\n",
    "plt.xlabel('K')\n",
    "plt.ylabel('Distortion')\n",
    "plt.show()"
   ]
  },
  {
   "cell_type": "code",
   "execution_count": 152,
   "metadata": {},
   "outputs": [],
   "source": [
    "# Optimal number of clusters K\n",
    "num_clusters = 5"
   ]
  },
  {
   "cell_type": "code",
   "execution_count": 153,
   "metadata": {},
   "outputs": [
    {
     "data": {
      "text/plain": [
       "KMeans(algorithm='auto', copy_x=True, init='k-means++', max_iter=300,\n",
       "       n_clusters=5, n_init=20, n_jobs=None, precompute_distances='auto',\n",
       "       random_state=None, tol=0.0001, verbose=0)"
      ]
     },
     "execution_count": 153,
     "metadata": {},
     "output_type": "execute_result"
    }
   ],
   "source": [
    "# Create an instance of KMeans classifier\n",
    "kmeans = KMeans(init='k-means++', n_clusters=num_clusters, n_init=20)\n",
    "# init: method of experimemtal finding the initial location of the centroids\n",
    "# n_init: the algorithm will run n_init times with different cetroids and the best result of those will be taken\n",
    "\n",
    "# Train the KMeans clustering model\n",
    "kmeans.fit(X)"
   ]
  },
  {
   "cell_type": "code",
   "execution_count": 154,
   "metadata": {},
   "outputs": [
    {
     "data": {
      "text/plain": [
       "array([4, 1, 4, 2, 4, 1, 1, 3, 2, 2, 0, 2, 0, 3, 2, 0, 2, 2, 1, 3, 1, 3,\n",
       "       1, 1, 4, 1, 3, 4, 4, 0, 2, 2, 0, 0, 2, 0, 3, 3, 0, 4, 2, 3, 2, 0,\n",
       "       2, 2, 2, 4, 2, 1, 1, 4, 1, 0, 0, 2, 0, 0, 3, 2, 2, 4, 4, 1, 2, 2,\n",
       "       1, 2, 3, 4, 4, 1, 4, 3, 1, 2, 1, 1, 0, 4, 2, 2, 2, 1, 2, 4, 4, 3,\n",
       "       2, 4, 4, 0, 1, 3, 1, 3, 4, 2, 2, 2, 3, 3, 3, 3, 3, 2, 2, 4, 2, 1,\n",
       "       2, 1, 2, 2, 1, 3, 3, 4, 1, 2, 3, 2, 2, 3, 3, 3, 0, 3, 2, 4, 3, 2,\n",
       "       1, 3, 1, 1, 1, 2, 2, 4, 1, 0, 4, 1, 2, 1, 0, 1, 1, 1, 1, 3, 2, 2,\n",
       "       1, 0, 1, 1, 0, 2, 3, 2, 2, 2, 0, 1, 2, 2, 0, 0, 3, 4, 1, 3, 1, 1,\n",
       "       1, 3, 0, 2, 4, 3, 0, 2, 2, 2, 0, 1, 4, 0, 0, 3, 4], dtype=int32)"
      ]
     },
     "execution_count": 154,
     "metadata": {},
     "output_type": "execute_result"
    }
   ],
   "source": [
    "# Predict 5 clusters in X\n",
    "y = kmeans.predict(X)\n",
    "y"
   ]
  },
  {
   "cell_type": "code",
   "execution_count": 155,
   "metadata": {},
   "outputs": [
    {
     "name": "stdout",
     "output_type": "stream",
     "text": [
      "[4 1 4 2 4 1 1 3 2 2 0 2 0 3 2 0 2 2 1 3 1 3 1 1 4 1 3 4 4 0 2 2 0 0 2 0 3\n",
      " 3 0 4 2 3 2 0 2 2 2 4 2 1 1 4 1 0 0 2 0 0 3 2 2 4 4 1 2 2 1 2 3 4 4 1 4 3\n",
      " 1 2 1 1 0 4 2 2 2 1 2 4 4 3 2 4 4 0 1 3 1 3 4 2 2 2 3 3 3 3 3 2 2 4 2 1 2\n",
      " 1 2 2 1 3 3 4 1 2 3 2 2 3 3 3 0 3 2 4 3 2 1 3 1 1 1 2 2 4 1 0 4 1 2 1 0 1\n",
      " 1 1 1 3 2 2 1 0 1 1 0 2 3 2 2 2 0 1 2 2 0 0 3 4 1 3 1 1 1 3 0 2 4 3 0 2 2\n",
      " 2 0 1 4 0 0 3 4]\n"
     ]
    }
   ],
   "source": [
    "# See the predicted labels of clusters\n",
    "# cluster labels are stored in variable 'kmeans.labels_'\n",
    "print(kmeans.labels_)"
   ]
  },
  {
   "cell_type": "code",
   "execution_count": 156,
   "metadata": {},
   "outputs": [
    {
     "name": "stdout",
     "output_type": "stream",
     "text": [
      "Cluster  0 :  (28, 8)\n"
     ]
    },
    {
     "data": {
      "image/png": "[encoded data removed]",
      "text/plain": [
       "<Figure size 432x288 with 1 Axes>"
      ]
     },
     "metadata": {
      "needs_background": "light"
     },
     "output_type": "display_data"
    },
    {
     "name": "stdout",
     "output_type": "stream",
     "text": [
      "Cluster  1 :  (44, 8)\n"
     ]
    },
    {
     "data": {
      "image/png": "[encoded data removed]",
      "text/plain": [
       "<Figure size 432x288 with 1 Axes>"
      ]
     },
     "metadata": {
      "needs_background": "light"
     },
     "output_type": "display_data"
    },
    {
     "name": "stdout",
     "output_type": "stream",
     "text": [
      "Cluster  2 :  (57, 8)\n"
     ]
    },
    {
     "data": {
      "image/png": "[encoded data removed]",
      "text/plain": [
       "<Figure size 432x288 with 1 Axes>"
      ]
     },
     "metadata": {
      "needs_background": "light"
     },
     "output_type": "display_data"
    },
    {
     "name": "stdout",
     "output_type": "stream",
     "text": [
      "Cluster  3 :  (35, 8)\n"
     ]
    },
    {
     "data": {
      "image/png": "[encoded data removed]",
      "text/plain": [
       "<Figure size 432x288 with 1 Axes>"
      ]
     },
     "metadata": {
      "needs_background": "light"
     },
     "output_type": "display_data"
    },
    {
     "name": "stdout",
     "output_type": "stream",
     "text": [
      "Cluster  4 :  (29, 8)\n"
     ]
    },
    {
     "data": {
      "image/png": "[encoded data removed]",
      "text/plain": [
       "<Figure size 432x288 with 1 Axes>"
      ]
     },
     "metadata": {
      "needs_background": "light"
     },
     "output_type": "display_data"
    }
   ],
   "source": [
    "# Split the clusters, for demo purpose only\n",
    "for i in range(num_clusters):\n",
    "    # slice the cluster\n",
    "    cluster = X[y == i]    \n",
    "    # print the shape\n",
    "    print(\"Cluster \", i, \": \", cluster.shape)    \n",
    "    # plot the points of this cluster\n",
    "    plt.scatter(cluster[:, 0], cluster[:, 1])   \n",
    "    plt.grid(True)\n",
    "    plt.show()"
   ]
  },
  {
   "cell_type": "code",
   "execution_count": 157,
   "metadata": {},
   "outputs": [
    {
     "data": {
      "image/png": "[encoded data removed]",
      "text/plain": [
       "<Figure size 432x288 with 1 Axes>"
      ]
     },
     "metadata": {
      "needs_background": "light"
     },
     "output_type": "display_data"
    }
   ],
   "source": [
    "# Plot the points with color code of the predicted clusters\n",
    "# viridis - a color map, https://matplotlib.org/users/colormaps.html\n",
    "# s - marker size, here, the dots size\n",
    "# c - marker color, here taken from the predicted clusters\n",
    "plt.scatter(X[:, 0], X[:, 1], c=y, s=50, cmap='viridis')\n",
    "\n",
    "plt.grid(True)\n",
    "plt.show()"
   ]
  },
  {
   "cell_type": "code",
   "execution_count": 158,
   "metadata": {},
   "outputs": [
    {
     "name": "stdout",
     "output_type": "stream",
     "text": [
      "[[6.30357143 6.32142857 6.42857143 6.48214286 6.55357143 6.60714286\n",
      "  6.625      6.60714286]\n",
      " [2.47727273 2.40909091 2.43181818 2.39772727 2.44318182 2.45454545\n",
      "  2.44318182 2.47727273]\n",
      " [1.0877193  1.0877193  1.07017544 1.07894737 1.09649123 1.12280702\n",
      "  1.14035088 1.1754386 ]\n",
      " [3.91428571 4.01428571 3.84285714 3.85714286 3.8        3.87142857\n",
      "  3.91428571 4.01428571]\n",
      " [5.32758621 5.32758621 5.31034483 5.5        5.51724138 5.53448276\n",
      "  5.5        5.48275862]]\n"
     ]
    }
   ],
   "source": [
    "# See the cluster centres, created during the clustering\n",
    "# cluster centres are stored in a variable named 'cluster_centers_'\n",
    "print(kmeans.cluster_centers_)"
   ]
  },
  {
   "cell_type": "markdown",
   "metadata": {},
   "source": [
    "### Store the KNN-Model in a file"
   ]
  },
  {
   "cell_type": "code",
   "execution_count": 160,
   "metadata": {},
   "outputs": [
    {
     "name": "stdout",
     "output_type": "stream",
     "text": [
      "Requirement already satisfied: joblib in /Users/aamandajuhl/opt/anaconda3/lib/python3.7/site-packages (0.13.2)\r\n"
     ]
    }
   ],
   "source": [
    "!pip install joblib"
   ]
  },
  {
   "cell_type": "code",
   "execution_count": 162,
   "metadata": {},
   "outputs": [
    {
     "data": {
      "text/plain": [
       "['knn-model.pkl']"
      ]
     },
     "execution_count": 162,
     "metadata": {},
     "output_type": "execute_result"
    }
   ],
   "source": [
    "import joblib\n",
    "joblib.dump(kmeans, 'knn-model.pkl')"
   ]
  },
  {
   "cell_type": "markdown",
   "metadata": {},
   "source": [
    "#### 2. Run the notebook from E8-3: Hierarchical and note the difference between this algorithm and the previous one. Write an answer to the questions"
   ]
  },
  {
   "cell_type": "markdown",
   "metadata": {},
   "source": [
    "How many types of hierarchical clustering are shown in the exercise?"
   ]
  },
  {
   "cell_type": "markdown",
   "metadata": {},
   "source": [
    "https://github.com/datsoftlyngby/soft2021spring-ds/blob/main/Code/E8-3-Hierarchical.ipynb"
   ]
  },
  {
   "cell_type": "markdown",
   "metadata": {},
   "source": [
    "How do they differ?"
   ]
  },
  {
   "cell_type": "markdown",
   "metadata": {},
   "source": [
    "#### 3. Run the notebook from E9-4: Mean Shift. Try to experiment the solution with various number of clusters. Observed the process of implementation of the Mean Shift algorithm and answer the questions:"
   ]
  },
  {
   "cell_type": "markdown",
   "metadata": {},
   "source": [
    "What is the difference between k-means and mean shift?"
   ]
  },
  {
   "cell_type": "markdown",
   "metadata": {},
   "source": [
    "- Mean-Shift algorithm determines the number of clusters and formes the clusters. It is a type of unsupervised machine learning algorithm. Unlike the more popular K-Means clustering, mean shift doesn’t require an estimate of the number of clusters. Instead, it creates a Kernel Density Estimation (KDE) for the dataset. KDE is a method to estimate the distribution of the data points. It works by placing a kernel on each data point. The kernel in math term is a weighting function that will apply weights for individual data points. Adding all the individual kernel generates the probability. (i.e Gaussian Kernel)\n",
    "\n",
    "\n",
    "- Whereas K-means is a method of vector quantization, that aims to partition n observations into k clusters in which each observation belongs to the cluster with the nearest mean (cluster centers or cluster centroid), serving as a prototype of the cluster."
   ]
  },
  {
   "cell_type": "markdown",
   "metadata": {},
   "source": [
    "In which occasions would you prefer to use mean shift algorithm?"
   ]
  },
  {
   "cell_type": "markdown",
   "metadata": {},
   "source": [
    "* This algorithm is mostly used for computer vision (i.e Image Processing, Video Tracking and Image Segmentation). Mean Shift algorithm would also have been really effective in big data problems, if it were not so computationally expensive."
   ]
  },
  {
   "cell_type": "code",
   "execution_count": null,
   "metadata": {},
   "outputs": [],
   "source": []
  }
 ],
 "metadata": {
  "kernelspec": {
   "display_name": "Python 3",
   "language": "python",
   "name": "python3"
  },
  "language_info": {
   "codemirror_mode": {
    "name": "ipython",
    "version": 3
   },
   "file_extension": ".py",
   "mimetype": "text/x-python",
   "name": "python",
   "nbconvert_exporter": "python",
   "pygments_lexer": "ipython3",
   "version": "3.7.4"
  }
 },
 "nbformat": 4,
 "nbformat_minor": 2
}
